{
 "cells": [
  {
   "cell_type": "code",
   "execution_count": 6,
   "metadata": {},
   "outputs": [
    {
     "name": "stdout",
     "output_type": "stream",
     "text": [
      "Enter total number of rows: 5\n",
      "*\n",
      "**\n",
      "***\n",
      "****\n",
      "*****\n",
      "****\n",
      "***\n",
      "**\n",
      "*\n"
     ]
    }
   ],
   "source": [
    "#Program to print a left Pascal's triangle:\n",
    "def left_Pascals_triangle():\n",
    "    n=int(input(\"Enter total number of rows: \"))\n",
    "    for row in range(n):\n",
    "        for column in range(row+1):\n",
    "            print(\"*\",end=\"\")\n",
    "        print()\n",
    "    for row in range(n-1,0,-1):\n",
    "        for column in range(row):\n",
    "            print(\"*\",end=\"\")\n",
    "        print()\n",
    "left_Pascals_triangle()"
   ]
  },
  {
   "cell_type": "code",
   "execution_count": 5,
   "metadata": {},
   "outputs": [
    {
     "name": "stdout",
     "output_type": "stream",
     "text": [
      "Enter a word: ineuron\n"
     ]
    },
    {
     "data": {
      "text/plain": [
       "'norueni'"
      ]
     },
     "execution_count": 5,
     "metadata": {},
     "output_type": "execute_result"
    }
   ],
   "source": [
    "#Program to print reverse the letters of a word:\n",
    "def reverse_the_word():\n",
    "    a_word=input(\"Enter a word: \")\n",
    "    reverse_word=\"\"\n",
    "    for count in range(-1,-1*((len(a_word))+1),-1):\n",
    "        reverse_word=reverse_word+a_word[count]\n",
    "    return reverse_word\n",
    "reverse_the_word()   "
   ]
  },
  {
   "cell_type": "code",
   "execution_count": null,
   "metadata": {},
   "outputs": [],
   "source": []
  },
  {
   "cell_type": "code",
   "execution_count": null,
   "metadata": {},
   "outputs": [],
   "source": []
  }
 ],
 "metadata": {
  "kernelspec": {
   "display_name": "Python 3",
   "language": "python",
   "name": "python3"
  },
  "language_info": {
   "codemirror_mode": {
    "name": "ipython",
    "version": 3
   },
   "file_extension": ".py",
   "mimetype": "text/x-python",
   "name": "python",
   "nbconvert_exporter": "python",
   "pygments_lexer": "ipython3",
   "version": "3.8.5"
  }
 },
 "nbformat": 4,
 "nbformat_minor": 4
}
